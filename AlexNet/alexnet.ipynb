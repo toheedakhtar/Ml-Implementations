{
  "cells": [
    {
      "cell_type": "markdown",
      "metadata": {
        "id": "view-in-github",
        "colab_type": "text"
      },
      "source": [
        "<a href=\"https://colab.research.google.com/github/toheedakhtar/Ml-Implementations/blob/main/AlexNet/alexnet.ipynb\" target=\"_parent\"><img src=\"https://colab.research.google.com/assets/colab-badge.svg\" alt=\"Open In Colab\"/></a>"
      ]
    },
    {
      "cell_type": "markdown",
      "metadata": {
        "id": "QIoEQr1TXXZk"
      },
      "source": [
        "# AlexNet\n",
        "\n",
        "Implementing **ImageNet Classification with Deep Convolutional Neural Networks**  \n",
        "by **Alex Krizhevsky** , **Ilya Sutskever**, **Geoffery Hinton**\n",
        "\n",
        "paper - [link](https://papers.nips.cc/paper_files/paper/2012/file/c399862d3b9d6b76c8436e924a68c45b-Paper.pdf)  \n",
        "helpful resources - [medium article](https://medium.com/@siddheshb008/alexnet-architecture-explained-b6240c528bd5)\n"
      ]
    },
    {
      "cell_type": "markdown",
      "metadata": {
        "id": "fTTOJ6GPXXZm"
      },
      "source": [
        "AlexNet consists of\n",
        "\n",
        "- 5 convolution layers,\n",
        "- 3 max-pooling layers,\n",
        "- 2 Normalized layers,\n",
        "- 2 fully connected layers and\n",
        "- 1 SoftMax layer.\n",
        "- ReLU activation function\n"
      ]
    },
    {
      "cell_type": "code",
      "execution_count": 12,
      "metadata": {
        "id": "T8OiRWgQXXZn"
      },
      "outputs": [],
      "source": [
        "import torch\n",
        "from torch import nn\n",
        "from tqdm.auto import tqdm\n",
        "import torchvision"
      ]
    },
    {
      "cell_type": "markdown",
      "metadata": {
        "id": "6uBiXkv7XXZo"
      },
      "source": [
        "## Model architecture\n",
        "via : Medium"
      ]
    },
    {
      "cell_type": "markdown",
      "metadata": {
        "id": "CR28a0GPXXZp"
      },
      "source": [
        "## Getting dataset"
      ]
    },
    {
      "cell_type": "code",
      "execution_count": 1,
      "metadata": {
        "id": "G4En91QXXXZp"
      },
      "outputs": [],
      "source": [
        "from torchvision import datasets\n",
        "from torchvision import transforms\n",
        "from torchvision.transforms import ToTensor"
      ]
    },
    {
      "cell_type": "code",
      "execution_count": 2,
      "metadata": {
        "id": "8hCkjsYUXXZq"
      },
      "outputs": [],
      "source": [
        "data_tansform = transforms.Compose([\n",
        "    transforms.Resize(size=(227,227)),\n",
        "    transforms.ToTensor()\n",
        "])"
      ]
    },
    {
      "cell_type": "code",
      "execution_count": 3,
      "metadata": {
        "id": "odS1K4KaXXZq"
      },
      "outputs": [],
      "source": [
        "# setup training data\n",
        "train_data = datasets.FashionMNIST(\n",
        "    root=\"data\", # where to download to\n",
        "    train=True, # training true , test false\n",
        "    download=True,\n",
        "    transform=data_tansform, # how do we want to transform the data\n",
        "    target_transform=None # how do we want to transform the labels/targets\n",
        ")\n",
        "\n",
        "test_data = datasets.FashionMNIST(\n",
        "    root=\"data\", # where to download to\n",
        "    train=False, # training true , test false\n",
        "    download=True,\n",
        "    transform=data_tansform, # how do we want to transform the data\n",
        "    target_transform=None # how do we want to transform the labels/targets\n",
        ")\n",
        "\n"
      ]
    },
    {
      "cell_type": "code",
      "execution_count": 4,
      "metadata": {
        "colab": {
          "base_uri": "https://localhost:8080/"
        },
        "id": "n1cqhR98XXZr",
        "outputId": "af78a0f8-c0b5-4234-dd58-549bb2c1270e"
      },
      "outputs": [
        {
          "output_type": "execute_result",
          "data": {
            "text/plain": [
              "(60000, 10000)"
            ]
          },
          "metadata": {},
          "execution_count": 4
        }
      ],
      "source": [
        "\n",
        "len(train_data), len(test_data)"
      ]
    },
    {
      "cell_type": "code",
      "execution_count": 5,
      "metadata": {
        "colab": {
          "base_uri": "https://localhost:8080/"
        },
        "id": "MyFD9VjPXXZs",
        "outputId": "23fe7a15-cc26-4728-fa2e-e385ce75ec44"
      },
      "outputs": [
        {
          "output_type": "execute_result",
          "data": {
            "text/plain": [
              "['T-shirt/top',\n",
              " 'Trouser',\n",
              " 'Pullover',\n",
              " 'Dress',\n",
              " 'Coat',\n",
              " 'Sandal',\n",
              " 'Shirt',\n",
              " 'Sneaker',\n",
              " 'Bag',\n",
              " 'Ankle boot']"
            ]
          },
          "metadata": {},
          "execution_count": 5
        }
      ],
      "source": [
        "\n",
        "class_names = train_data.classes\n",
        "class_names"
      ]
    },
    {
      "cell_type": "code",
      "execution_count": 6,
      "metadata": {
        "colab": {
          "base_uri": "https://localhost:8080/"
        },
        "id": "v3iVVKoWXXZs",
        "outputId": "d3a5ef4f-dd13-4d6d-c06d-da769fce562c"
      },
      "outputs": [
        {
          "output_type": "execute_result",
          "data": {
            "text/plain": [
              "{'T-shirt/top': 0,\n",
              " 'Trouser': 1,\n",
              " 'Pullover': 2,\n",
              " 'Dress': 3,\n",
              " 'Coat': 4,\n",
              " 'Sandal': 5,\n",
              " 'Shirt': 6,\n",
              " 'Sneaker': 7,\n",
              " 'Bag': 8,\n",
              " 'Ankle boot': 9}"
            ]
          },
          "metadata": {},
          "execution_count": 6
        }
      ],
      "source": [
        "class_to_idx = train_data.class_to_idx\n",
        "class_to_idx"
      ]
    },
    {
      "cell_type": "code",
      "execution_count": 7,
      "metadata": {
        "colab": {
          "base_uri": "https://localhost:8080/",
          "height": 488
        },
        "id": "ee71kj_7XXZt",
        "outputId": "ac2176da-a5ad-4bf2-f492-c31ebc0f6c86"
      },
      "outputs": [
        {
          "output_type": "stream",
          "name": "stdout",
          "text": [
            "Image shape : torch.Size([1, 227, 227])\n"
          ]
        },
        {
          "output_type": "execute_result",
          "data": {
            "text/plain": [
              "Text(0.5, 1.0, '9')"
            ]
          },
          "metadata": {},
          "execution_count": 7
        },
        {
          "output_type": "display_data",
          "data": {
            "text/plain": [
              "<Figure size 640x480 with 1 Axes>"
            ],
            "image/png": "[encoded data removed]"
          },
          "metadata": {}
        }
      ],
      "source": [
        "import matplotlib.pyplot as plt\n",
        "image, label = train_data[0]\n",
        "print(f\"Image shape : {image.shape}\")\n",
        "plt.imshow(image.squeeze(), cmap='gray') # getting rid of 1 color channel. grayscale\n",
        "plt.title(label)"
      ]
    },
    {
      "cell_type": "code",
      "source": [
        "train_data"
      ],
      "metadata": {
        "colab": {
          "base_uri": "https://localhost:8080/"
        },
        "id": "QMJl66jqcbA1",
        "outputId": "c6770050-76d5-47bc-f249-640146b19654"
      },
      "execution_count": 8,
      "outputs": [
        {
          "output_type": "execute_result",
          "data": {
            "text/plain": [
              "Dataset FashionMNIST\n",
              "    Number of datapoints: 60000\n",
              "    Root location: data\n",
              "    Split: Train\n",
              "    StandardTransform\n",
              "Transform: Compose(\n",
              "               Resize(size=(227, 227), interpolation=bilinear, max_size=None, antialias=True)\n",
              "               ToTensor()\n",
              "           )"
            ]
          },
          "metadata": {},
          "execution_count": 8
        }
      ]
    },
    {
      "cell_type": "code",
      "execution_count": 9,
      "metadata": {
        "colab": {
          "base_uri": "https://localhost:8080/"
        },
        "id": "XVdeHlq3XXZt",
        "outputId": "134d6c68-1619-4eb4-f213-398e23e775ea"
      },
      "outputs": [
        {
          "output_type": "execute_result",
          "data": {
            "text/plain": [
              "(<torch.utils.data.dataloader.DataLoader at 0x795830c5f8b0>,\n",
              " <torch.utils.data.dataloader.DataLoader at 0x7958f767ec80>)"
            ]
          },
          "metadata": {},
          "execution_count": 9
        }
      ],
      "source": [
        "\n",
        "\n",
        "from torch.utils.data import DataLoader\n",
        "\n",
        "#hyperparameter\n",
        "BATCH_SIZE = 32\n",
        "\n",
        "train_dataloader = DataLoader(\n",
        "    dataset=train_data, batch_size=BATCH_SIZE,\n",
        "    shuffle=True\n",
        ")\n",
        "\n",
        "test_dataloader = DataLoader(\n",
        "    dataset=test_data, batch_size=BATCH_SIZE,\n",
        "    shuffle=False\n",
        ")\n",
        "\n",
        "train_dataloader, test_dataloader\n",
        "\n"
      ]
    },
    {
      "cell_type": "code",
      "source": [
        "train_features_batch, train_labels_batch = next(iter(train_dataloader))\n",
        "train_features_batch.shape ,train_labels_batch.shape"
      ],
      "metadata": {
        "colab": {
          "base_uri": "https://localhost:8080/"
        },
        "id": "Hl1kzMcccell",
        "outputId": "109f4b4b-9043-46b6-a7b6-1101cb5c8dee"
      },
      "execution_count": 10,
      "outputs": [
        {
          "output_type": "execute_result",
          "data": {
            "text/plain": [
              "(torch.Size([32, 1, 227, 227]), torch.Size([32]))"
            ]
          },
          "metadata": {},
          "execution_count": 10
        }
      ]
    },
    {
      "cell_type": "code",
      "execution_count": 13,
      "metadata": {
        "id": "GnJaBqMmXXZu"
      },
      "outputs": [],
      "source": [
        "class AlexNet(nn.Module):\n",
        "    def __init__(self):\n",
        "        super().__init__()\n",
        "\n",
        "\n",
        "        self.block1 = nn.Sequential(\n",
        "            nn.Conv2d(in_channels=1, out_channels=96, kernel_size=11, stride=4),\n",
        "            nn.ReLU(),\n",
        "            nn.BatchNorm2d(96),\n",
        "            nn.MaxPool2d(kernel_size=3, stride=2),\n",
        "\n",
        "        )\n",
        "        self.block2 = nn.Sequential(\n",
        "            nn.Conv2d(in_channels=96, out_channels=256, kernel_size=5, stride=1, padding=2),\n",
        "            nn.ReLU(),\n",
        "            nn.BatchNorm2d(256),\n",
        "            nn.MaxPool2d(kernel_size=3, stride=2),\n",
        "        )\n",
        "        self.block3 = nn.Sequential(\n",
        "            nn.Conv2d(in_channels=256, out_channels=384, kernel_size=3, stride=1, padding=1),\n",
        "            nn.ReLU(),\n",
        "            nn.BatchNorm2d(384),\n",
        "\n",
        "            nn.Conv2d(in_channels=384, out_channels=384, kernel_size=3, stride=1, padding=1),\n",
        "            nn.ReLU(),\n",
        "            nn.BatchNorm2d(384),\n",
        "\n",
        "            nn.Conv2d(in_channels=384, out_channels=256, kernel_size=3, stride=1, padding=1),\n",
        "            nn.ReLU(),\n",
        "            nn.BatchNorm2d(256),\n",
        "            nn.MaxPool2d(kernel_size=3, stride=2),\n",
        "        )\n",
        "        self.fc1 = nn.Sequential(\n",
        "            nn.Flatten(),\n",
        "            nn.Dropout(0.5),\n",
        "            nn.Linear(in_features=9216, out_features=4096),\n",
        "            nn.ReLU()\n",
        "        )\n",
        "        self.fc2 = nn.Sequential(\n",
        "            nn.Dropout(0.5),\n",
        "            nn.Linear(in_features=4096, out_features=4096),\n",
        "            nn.ReLU()\n",
        "        )\n",
        "        self.fc3 = nn.Sequential(\n",
        "            nn.Linear(in_features=4096, out_features=1000),\n",
        "            nn.ReLU()\n",
        "        )\n",
        "        self.fc4 = nn.Sequential(\n",
        "            nn.Linear(in_features=1000, out_features=len(class_names)),\n",
        "            nn.Softmax()\n",
        "        )\n",
        "\n",
        "    def forward(self, x):\n",
        "        x = self.block1(x)\n",
        "        x = self.block2(x)\n",
        "        x = self.block3(x)\n",
        "        # print(x.shape)\n",
        "        x = self.fc1(x)\n",
        "        x = self.fc2(x)\n",
        "        x = self.fc3(x)\n",
        "        x = self.fc4(x)\n",
        "\n",
        "\n",
        "\n",
        "        return x\n",
        "\n",
        "\n",
        "\n"
      ]
    },
    {
      "cell_type": "code",
      "execution_count": 14,
      "metadata": {
        "id": "URCqGp3iXXZu"
      },
      "outputs": [],
      "source": [
        "model = AlexNet()"
      ]
    },
    {
      "cell_type": "code",
      "source": [
        "! pip install torchinfo"
      ],
      "metadata": {
        "colab": {
          "base_uri": "https://localhost:8080/"
        },
        "id": "DGeXYc-mYWCc",
        "outputId": "2c922389-61d7-4ec0-96e4-b3ebb1d13dcb"
      },
      "execution_count": 13,
      "outputs": [
        {
          "output_type": "stream",
          "name": "stdout",
          "text": [
            "Collecting torchinfo\n",
            "  Downloading torchinfo-1.8.0-py3-none-any.whl.metadata (21 kB)\n",
            "Downloading torchinfo-1.8.0-py3-none-any.whl (23 kB)\n",
            "Installing collected packages: torchinfo\n",
            "Successfully installed torchinfo-1.8.0\n"
          ]
        }
      ]
    },
    {
      "cell_type": "code",
      "execution_count": 14,
      "metadata": {
        "colab": {
          "base_uri": "https://localhost:8080/"
        },
        "id": "gE2E45a7XXZv",
        "outputId": "075bde14-f482-4069-911c-8ec335756aea"
      },
      "outputs": [
        {
          "output_type": "stream",
          "name": "stderr",
          "text": [
            "/usr/local/lib/python3.10/dist-packages/torch/nn/modules/module.py:1553: UserWarning: Implicit dimension choice for softmax has been deprecated. Change the call to include dim=X as an argument.\n",
            "  return self._call_impl(*args, **kwargs)\n"
          ]
        },
        {
          "output_type": "execute_result",
          "data": {
            "text/plain": [
              "==========================================================================================\n",
              "Layer (type:depth-idx)                   Output Shape              Param #\n",
              "==========================================================================================\n",
              "AlexNet                                  [1, 10]                   --\n",
              "├─Sequential: 1-1                        [1, 96, 27, 27]           --\n",
              "│    └─Conv2d: 2-1                       [1, 96, 55, 55]           11,712\n",
              "│    └─ReLU: 2-2                         [1, 96, 55, 55]           --\n",
              "│    └─BatchNorm2d: 2-3                  [1, 96, 55, 55]           192\n",
              "│    └─MaxPool2d: 2-4                    [1, 96, 27, 27]           --\n",
              "├─Sequential: 1-2                        [1, 256, 13, 13]          --\n",
              "│    └─Conv2d: 2-5                       [1, 256, 27, 27]          614,656\n",
              "│    └─ReLU: 2-6                         [1, 256, 27, 27]          --\n",
              "│    └─BatchNorm2d: 2-7                  [1, 256, 27, 27]          512\n",
              "│    └─MaxPool2d: 2-8                    [1, 256, 13, 13]          --\n",
              "├─Sequential: 1-3                        [1, 256, 6, 6]            --\n",
              "│    └─Conv2d: 2-9                       [1, 384, 13, 13]          885,120\n",
              "│    └─ReLU: 2-10                        [1, 384, 13, 13]          --\n",
              "│    └─BatchNorm2d: 2-11                 [1, 384, 13, 13]          768\n",
              "│    └─Conv2d: 2-12                      [1, 384, 13, 13]          1,327,488\n",
              "│    └─ReLU: 2-13                        [1, 384, 13, 13]          --\n",
              "│    └─BatchNorm2d: 2-14                 [1, 384, 13, 13]          768\n",
              "│    └─Conv2d: 2-15                      [1, 256, 13, 13]          884,992\n",
              "│    └─ReLU: 2-16                        [1, 256, 13, 13]          --\n",
              "│    └─BatchNorm2d: 2-17                 [1, 256, 13, 13]          512\n",
              "│    └─MaxPool2d: 2-18                   [1, 256, 6, 6]            --\n",
              "├─Sequential: 1-4                        [1, 4096]                 --\n",
              "│    └─Flatten: 2-19                     [1, 9216]                 --\n",
              "│    └─Dropout: 2-20                     [1, 9216]                 --\n",
              "│    └─Linear: 2-21                      [1, 4096]                 37,752,832\n",
              "│    └─ReLU: 2-22                        [1, 4096]                 --\n",
              "├─Sequential: 1-5                        [1, 4096]                 --\n",
              "│    └─Dropout: 2-23                     [1, 4096]                 --\n",
              "│    └─Linear: 2-24                      [1, 4096]                 16,781,312\n",
              "│    └─ReLU: 2-25                        [1, 4096]                 --\n",
              "├─Sequential: 1-6                        [1, 1000]                 --\n",
              "│    └─Linear: 2-26                      [1, 1000]                 4,097,000\n",
              "│    └─ReLU: 2-27                        [1, 1000]                 --\n",
              "├─Sequential: 1-7                        [1, 10]                   --\n",
              "│    └─Linear: 2-28                      [1, 10]                   10,010\n",
              "│    └─Softmax: 2-29                     [1, 10]                   --\n",
              "==========================================================================================\n",
              "Total params: 62,367,874\n",
              "Trainable params: 62,367,874\n",
              "Non-trainable params: 0\n",
              "Total mult-adds (G): 1.07\n",
              "==========================================================================================\n",
              "Input size (MB): 0.21\n",
              "Forward/backward pass size (MB): 10.47\n",
              "Params size (MB): 249.47\n",
              "Estimated Total Size (MB): 260.15\n",
              "=========================================================================================="
            ]
          },
          "metadata": {},
          "execution_count": 14
        }
      ],
      "source": [
        "from torchinfo import summary\n",
        "summary(model, input_size=[1,1,227,227])"
      ]
    },
    {
      "cell_type": "code",
      "source": [
        "device = 'cuda' if torch.cuda.is_available() else 'cpu'\n",
        "device"
      ],
      "metadata": {
        "colab": {
          "base_uri": "https://localhost:8080/",
          "height": 35
        },
        "id": "NwjgzBQxZVHL",
        "outputId": "661f0d60-80b2-490e-a5bf-49c70181d935"
      },
      "execution_count": 19,
      "outputs": [
        {
          "output_type": "execute_result",
          "data": {
            "text/plain": [
              "'cuda'"
            ],
            "application/vnd.google.colaboratory.intrinsic+json": {
              "type": "string"
            }
          },
          "metadata": {},
          "execution_count": 19
        }
      ]
    },
    {
      "cell_type": "code",
      "execution_count": 23,
      "metadata": {
        "colab": {
          "base_uri": "https://localhost:8080/"
        },
        "id": "R65bfat3XXZv",
        "outputId": "c11d7f69-9ab0-44a3-c0ff-cf000d1c1fa6"
      },
      "outputs": [
        {
          "output_type": "execute_result",
          "data": {
            "text/plain": [
              "(torch.Size([1, 1, 227, 227]), 0)"
            ]
          },
          "metadata": {},
          "execution_count": 23
        }
      ],
      "source": [
        "image , label = train_data[4]\n",
        "image = image.unsqueeze(0)\n",
        "# image = image.to(device)\n",
        "image.shape, label"
      ]
    },
    {
      "cell_type": "code",
      "source": [
        "model(image).to(device)"
      ],
      "metadata": {
        "colab": {
          "base_uri": "https://localhost:8080/"
        },
        "id": "Uo9mixsNai9m",
        "outputId": "f1e41af0-3dae-455e-928c-1069e18b812a"
      },
      "execution_count": 24,
      "outputs": [
        {
          "output_type": "stream",
          "name": "stderr",
          "text": [
            "/usr/local/lib/python3.10/dist-packages/torch/nn/modules/module.py:1553: UserWarning: Implicit dimension choice for softmax has been deprecated. Change the call to include dim=X as an argument.\n",
            "  return self._call_impl(*args, **kwargs)\n"
          ]
        },
        {
          "output_type": "execute_result",
          "data": {
            "text/plain": [
              "tensor([[0.1077, 0.0892, 0.1164, 0.0593, 0.1211, 0.1052, 0.1010, 0.1108, 0.1019,\n",
              "         0.0873]], device='cuda:0', grad_fn=<ToCopyBackward0>)"
            ]
          },
          "metadata": {},
          "execution_count": 24
        }
      ]
    },
    {
      "cell_type": "code",
      "execution_count": 25,
      "metadata": {
        "colab": {
          "base_uri": "https://localhost:8080/"
        },
        "id": "DIE20KLuXXZw",
        "outputId": "ee68cece-3a73-465d-c73a-10366d1889b3"
      },
      "outputs": [
        {
          "output_type": "execute_result",
          "data": {
            "text/plain": [
              "tensor(2, device='cuda:0')"
            ]
          },
          "metadata": {},
          "execution_count": 25
        }
      ],
      "source": [
        "model(image).to(device).argmax()"
      ]
    },
    {
      "cell_type": "markdown",
      "metadata": {
        "id": "pDWGqNXTXXZw"
      },
      "source": [
        "## Writing Train and test step"
      ]
    },
    {
      "cell_type": "code",
      "execution_count": 17,
      "metadata": {
        "id": "bVuYKXjTXXZw"
      },
      "outputs": [],
      "source": [
        "device = 'cuda' if torch.cuda.is_available() else 'cpu'"
      ]
    },
    {
      "cell_type": "code",
      "source": [
        "device"
      ],
      "metadata": {
        "colab": {
          "base_uri": "https://localhost:8080/",
          "height": 35
        },
        "id": "zscz-QGTYfVg",
        "outputId": "c79ed0b5-a706-430e-cacc-c8e0aecf8d4f"
      },
      "execution_count": 18,
      "outputs": [
        {
          "output_type": "execute_result",
          "data": {
            "text/plain": [
              "'cuda'"
            ],
            "application/vnd.google.colaboratory.intrinsic+json": {
              "type": "string"
            }
          },
          "metadata": {},
          "execution_count": 18
        }
      ]
    },
    {
      "cell_type": "code",
      "source": [
        "for (X,y) in enumerate(train_dataloader):\n",
        "  print(X, y)\n",
        "  break"
      ],
      "metadata": {
        "colab": {
          "base_uri": "https://localhost:8080/"
        },
        "id": "Mxrt-dNzbOWA",
        "outputId": "9d340e01-8791-461f-9608-c3042a7eb34b"
      },
      "execution_count": 106,
      "outputs": [
        {
          "output_type": "stream",
          "name": "stdout",
          "text": [
            "0 [tensor([[[[0., 0., 0.,  ..., 0., 0., 0.],\n",
            "          [0., 0., 0.,  ..., 0., 0., 0.],\n",
            "          [0., 0., 0.,  ..., 0., 0., 0.],\n",
            "          ...,\n",
            "          [0., 0., 0.,  ..., 0., 0., 0.],\n",
            "          [0., 0., 0.,  ..., 0., 0., 0.],\n",
            "          [0., 0., 0.,  ..., 0., 0., 0.]]],\n",
            "\n",
            "\n",
            "        [[[0., 0., 0.,  ..., 0., 0., 0.],\n",
            "          [0., 0., 0.,  ..., 0., 0., 0.],\n",
            "          [0., 0., 0.,  ..., 0., 0., 0.],\n",
            "          ...,\n",
            "          [0., 0., 0.,  ..., 0., 0., 0.],\n",
            "          [0., 0., 0.,  ..., 0., 0., 0.],\n",
            "          [0., 0., 0.,  ..., 0., 0., 0.]]],\n",
            "\n",
            "\n",
            "        [[[0., 0., 0.,  ..., 0., 0., 0.],\n",
            "          [0., 0., 0.,  ..., 0., 0., 0.],\n",
            "          [0., 0., 0.,  ..., 0., 0., 0.],\n",
            "          ...,\n",
            "          [0., 0., 0.,  ..., 0., 0., 0.],\n",
            "          [0., 0., 0.,  ..., 0., 0., 0.],\n",
            "          [0., 0., 0.,  ..., 0., 0., 0.]]],\n",
            "\n",
            "\n",
            "        ...,\n",
            "\n",
            "\n",
            "        [[[0., 0., 0.,  ..., 0., 0., 0.],\n",
            "          [0., 0., 0.,  ..., 0., 0., 0.],\n",
            "          [0., 0., 0.,  ..., 0., 0., 0.],\n",
            "          ...,\n",
            "          [0., 0., 0.,  ..., 0., 0., 0.],\n",
            "          [0., 0., 0.,  ..., 0., 0., 0.],\n",
            "          [0., 0., 0.,  ..., 0., 0., 0.]]],\n",
            "\n",
            "\n",
            "        [[[0., 0., 0.,  ..., 0., 0., 0.],\n",
            "          [0., 0., 0.,  ..., 0., 0., 0.],\n",
            "          [0., 0., 0.,  ..., 0., 0., 0.],\n",
            "          ...,\n",
            "          [0., 0., 0.,  ..., 0., 0., 0.],\n",
            "          [0., 0., 0.,  ..., 0., 0., 0.],\n",
            "          [0., 0., 0.,  ..., 0., 0., 0.]]],\n",
            "\n",
            "\n",
            "        [[[0., 0., 0.,  ..., 0., 0., 0.],\n",
            "          [0., 0., 0.,  ..., 0., 0., 0.],\n",
            "          [0., 0., 0.,  ..., 0., 0., 0.],\n",
            "          ...,\n",
            "          [0., 0., 0.,  ..., 0., 0., 0.],\n",
            "          [0., 0., 0.,  ..., 0., 0., 0.],\n",
            "          [0., 0., 0.,  ..., 0., 0., 0.]]]]), tensor([2, 8, 9, 1, 8, 8, 0, 0, 5, 8, 3, 2, 6, 6, 2, 0, 1, 2, 0, 2, 8, 4, 9, 5,\n",
            "        8, 0, 3, 5, 5, 5, 4, 1])]\n"
          ]
        }
      ]
    },
    {
      "cell_type": "code",
      "execution_count": 33,
      "metadata": {
        "id": "pcYitWHVXXZx"
      },
      "outputs": [],
      "source": [
        "def train_step(model:torch.nn.Module,\n",
        "              dataloader : torch.utils.data.DataLoader,\n",
        "               loss_fn : nn.Module,\n",
        "               optimizer : torch.optim.Optimizer,\n",
        "               device = device\n",
        "              ):\n",
        "\n",
        "    model.train()\n",
        "    train_loss = 0\n",
        "\n",
        "    # add a loop to loop through training batches\n",
        "    for batch, (X, y) in enumerate(train_dataloader): # X - features , y - labels\n",
        "      X,y = X.to(device) , y.to(device)\n",
        "\n",
        "      # 1. forward pass\n",
        "      y_pred = model(X)\n",
        "\n",
        "      #2. calculate loss (per batch)\n",
        "      loss = loss_fn(y_pred, y)\n",
        "\n",
        "      train_loss += loss  # accumulate train loss\n",
        "\n",
        "      # optimize zero grad\n",
        "      optimizer.zero_grad()\n",
        "\n",
        "      # loss backward\n",
        "      loss.backward()\n",
        "\n",
        "      # optimizer step\n",
        "      optimizer.step()\n",
        "    train_loss /= len(dataloader)\n",
        "    print('train loss : ', train_loss)\n",
        "    return train_loss"
      ]
    },
    {
      "cell_type": "code",
      "execution_count": 34,
      "metadata": {
        "id": "sTj9xgeRXXZx"
      },
      "outputs": [],
      "source": [
        "def test_step(model:nn.Module,\n",
        "             dataloader:torch.utils.data.DataLoader,\n",
        "             loss_fn : nn.Module,\n",
        "             device=device):\n",
        "    test_loss = 0\n",
        "    model.eval()\n",
        "    with torch.inference_mode():\n",
        "        for batch, (X, y) in enumerate(dataloader):\n",
        "            X,y = X.to(device) , y.to(device)\n",
        "            y_pred = model(X)\n",
        "            loss = loss_fn(y_pred, y)\n",
        "            test_loss += loss.item()\n",
        "    test_loss /= len(dataloader)\n",
        "    print('test loss : ', test_loss)\n",
        "    return test_loss"
      ]
    },
    {
      "cell_type": "code",
      "execution_count": 35,
      "metadata": {
        "id": "sIMDxwL3XXZy"
      },
      "outputs": [],
      "source": [
        "from tqdm.auto import tqdm\n",
        "def train(model:torch.nn.Module,\n",
        "          train_datalaoder : torch.utils.data.DataLoader,\n",
        "          test_dataloader: torch.utils.data.DataLoader,\n",
        "          optimizer: torch.optim.Optimizer,\n",
        "          loss_fn : torch.nn.Module = nn.CrossEntropyLoss(),\n",
        "          epochs: int =5,\n",
        "          device=device):\n",
        "\n",
        "  results= {\n",
        "      \"train_loss\" : [],\n",
        "      # \"train_acc\" : [],\n",
        "      \"test_loss\" : [],\n",
        "      # \"test_acc\" : []\n",
        "  }\n",
        "\n",
        "  for epoch in tqdm(range(epochs)):\n",
        "    train_loss = train_step(model=model,\n",
        "                                       dataloader=train_dataloader,\n",
        "                                       optimizer=optimizer,\n",
        "                                       loss_fn=loss_fn,\n",
        "                                       device=device)\n",
        "\n",
        "    test_loss = test_step(model=model,\n",
        "                                       dataloader=test_dataloader,\n",
        "                                       loss_fn=loss_fn,\n",
        "                                       device=device)\n",
        "\n",
        "    print(f\"Epoch {epoch} | Train loss : {train_loss:.4f} | Test loss : {test_loss:.4f}  \")\n",
        "\n",
        "    results[\"train_loss\"].append(train_loss)\n",
        "    # results[\"train_acc\"].append(train_acc)\n",
        "    results[\"test_loss\"].append(test_loss)\n",
        "    # results[\"test_acc\"].append(test_acc)\n",
        "\n",
        "  return results"
      ]
    },
    {
      "cell_type": "code",
      "execution_count": 31,
      "metadata": {
        "id": "N6gWAZJDXXZy"
      },
      "outputs": [],
      "source": []
    },
    {
      "cell_type": "code",
      "execution_count": 36,
      "metadata": {
        "colab": {
          "base_uri": "https://localhost:8080/",
          "height": 210,
          "referenced_widgets": [
            "0145d770c9ca44a982f1d6bfe43a9931",
            "4c1277f4acd3475e8df5261be7bbff22",
            "7b4308e4418a45f99e92b4df4fa690e1",
            "2377d4b860ad4f099a3539da9a6a5656",
            "2ce143bdfa814a81bb31d3372e7fbc68",
            "ac68bc091e5a4286805f9996ee2e6d2e",
            "1732921336474b8988927be777e52f6f",
            "3303a4a6c2154c30aceff76712b4fa6a",
            "0ce4a6faa12b4751ac7c4887c47f64a9",
            "aaff460a6e004173a1e6cc98ba505286",
            "8f1856b7c920486eb2449bdd4afbed5b"
          ]
        },
        "id": "GQ9SElAEXXZy",
        "outputId": "ff150d0b-420d-441d-ea3e-60e8622f8d58"
      },
      "outputs": [
        {
          "output_type": "display_data",
          "data": {
            "text/plain": [
              "  0%|          | 0/3 [00:00<?, ?it/s]"
            ],
            "application/vnd.jupyter.widget-view+json": {
              "version_major": 2,
              "version_minor": 0,
              "model_id": "0145d770c9ca44a982f1d6bfe43a9931"
            }
          },
          "metadata": {}
        },
        {
          "output_type": "stream",
          "name": "stdout",
          "text": [
            "train loss :  tensor(1.7616, device='cuda:0', grad_fn=<DivBackward0>)\n",
            "test loss :  1.6427491267268268\n",
            "Epoch 0 | Train loss : 1.7616 | Test loss : 1.6427  \n",
            "train loss :  tensor(1.6276, device='cuda:0', grad_fn=<DivBackward0>)\n",
            "test loss :  1.6215058747952737\n",
            "Epoch 1 | Train loss : 1.6276 | Test loss : 1.6215  \n",
            "train loss :  tensor(1.6170, device='cuda:0', grad_fn=<DivBackward0>)\n",
            "test loss :  1.6150711359688268\n",
            "Epoch 2 | Train loss : 1.6170 | Test loss : 1.6151  \n"
          ]
        }
      ],
      "source": [
        "torch.manual_seed(42)\n",
        "torch.cuda.manual_seed(42)\n",
        "\n",
        "NUM_EPOCHS = 3\n",
        "\n",
        "model = AlexNet()\n",
        "model.to(device)\n",
        "loss_fn = nn.CrossEntropyLoss()\n",
        "optimizer = torch.optim.SGD(params=model.parameters(), lr=0.01)\n",
        "\n",
        "from timeit import default_timer as timer\n",
        "start_time = timer()\n",
        "\n",
        "model_results = train(model=model, train_datalaoder=train_dataloader,\n",
        "                        test_dataloader=test_dataloader, loss_fn=loss_fn,\n",
        "                        optimizer=optimizer, epochs=NUM_EPOCHS,\n",
        "                        )\n",
        "\n",
        "end_time = timer()"
      ]
    },
    {
      "cell_type": "code",
      "execution_count": 74,
      "metadata": {
        "colab": {
          "base_uri": "https://localhost:8080/",
          "height": 659
        },
        "id": "TXoKEjAiXXZy",
        "outputId": "d2962cf3-c2ad-4cd6-802d-f9d17a6becdd"
      },
      "outputs": [
        {
          "output_type": "execute_result",
          "data": {
            "text/plain": [
              "<matplotlib.legend.Legend at 0x7958143f5fc0>"
            ]
          },
          "metadata": {},
          "execution_count": 74
        },
        {
          "output_type": "display_data",
          "data": {
            "text/plain": [
              "<Figure size 1300x700 with 1 Axes>"
            ],
            "image/png": "[encoded data removed]"
          },
          "metadata": {}
        }
      ],
      "source": [
        "tr_loss = torch.tensor(model_results['train_loss'], device='cpu')\n",
        "tst_loss = torch.tensor(model_results['test_loss'], device='cpu')\n",
        "epochs = range(len(model_results['train_loss']))\n",
        "epochs = torch.tensor(epochs, device='cpu')\n",
        "\n",
        "plt.figure(figsize=(13,7))\n",
        "#loss\n",
        "plt.subplot(1,2,1)\n",
        "plt.plot(epochs, tr_loss, label='train loss')\n",
        "plt.plot(epochs, tst_loss, label='test loss')\n",
        "plt.title(\"loss\")\n",
        "plt.xlabel('Epochs')\n",
        "plt.legend()"
      ]
    },
    {
      "cell_type": "code",
      "execution_count": 63,
      "metadata": {
        "id": "JyFWrJNAXXZy"
      },
      "outputs": [],
      "source": []
    },
    {
      "cell_type": "code",
      "source": [],
      "metadata": {
        "id": "ckqFH4VFnlND"
      },
      "execution_count": null,
      "outputs": []
    },
    {
      "cell_type": "code",
      "execution_count": null,
      "metadata": {
        "id": "8B712wcUXXZy"
      },
      "outputs": [],
      "source": []
    }
  ],
  "metadata": {
    "kernelspec": {
      "display_name": "Python 3",
      "name": "python3"
    },
    "language_info": {
      "codemirror_mode": {
        "name": "ipython",
        "version": 3
      },
      "file_extension": ".py",
      "mimetype": "text/x-python",
      "name": "python",
      "nbconvert_exporter": "python",
      "pygments_lexer": "ipython3",
      "version": "3.10.12"
    },
    "colab": {
      "provenance": [],
      "gpuType": "T4",
      "include_colab_link": true
    },
    "accelerator": "GPU",
    "widgets": {
      "application/vnd.jupyter.widget-state+json": {
        "0145d770c9ca44a982f1d6bfe43a9931": {
          "model_module": "@jupyter-widgets/controls",
          "model_name": "HBoxModel",
          "model_module_version": "1.5.0",
          "state": {
            "_dom_classes": [],
            "_model_module": "@jupyter-widgets/controls",
            "_model_module_version": "1.5.0",
            "_model_name": "HBoxModel",
            "_view_count": null,
            "_view_module": "@jupyter-widgets/controls",
            "_view_module_version": "1.5.0",
            "_view_name": "HBoxView",
            "box_style": "",
            "children": [
              "IPY_MODEL_4c1277f4acd3475e8df5261be7bbff22",
              "IPY_MODEL_7b4308e4418a45f99e92b4df4fa690e1",
              "IPY_MODEL_2377d4b860ad4f099a3539da9a6a5656"
            ],
            "layout": "IPY_MODEL_2ce143bdfa814a81bb31d3372e7fbc68"
          }
        },
        "4c1277f4acd3475e8df5261be7bbff22": {
          "model_module": "@jupyter-widgets/controls",
          "model_name": "HTMLModel",
          "model_module_version": "1.5.0",
          "state": {
            "_dom_classes": [],
            "_model_module": "@jupyter-widgets/controls",
            "_model_module_version": "1.5.0",
            "_model_name": "HTMLModel",
            "_view_count": null,
            "_view_module": "@jupyter-widgets/controls",
            "_view_module_version": "1.5.0",
            "_view_name": "HTMLView",
            "description": "",
            "description_tooltip": null,
            "layout": "IPY_MODEL_ac68bc091e5a4286805f9996ee2e6d2e",
            "placeholder": "​",
            "style": "IPY_MODEL_1732921336474b8988927be777e52f6f",
            "value": "100%"
          }
        },
        "7b4308e4418a45f99e92b4df4fa690e1": {
          "model_module": "@jupyter-widgets/controls",
          "model_name": "FloatProgressModel",
          "model_module_version": "1.5.0",
          "state": {
            "_dom_classes": [],
            "_model_module": "@jupyter-widgets/controls",
            "_model_module_version": "1.5.0",
            "_model_name": "FloatProgressModel",
            "_view_count": null,
            "_view_module": "@jupyter-widgets/controls",
            "_view_module_version": "1.5.0",
            "_view_name": "ProgressView",
            "bar_style": "success",
            "description": "",
            "description_tooltip": null,
            "layout": "IPY_MODEL_3303a4a6c2154c30aceff76712b4fa6a",
            "max": 3,
            "min": 0,
            "orientation": "horizontal",
            "style": "IPY_MODEL_0ce4a6faa12b4751ac7c4887c47f64a9",
            "value": 3
          }
        },
        "2377d4b860ad4f099a3539da9a6a5656": {
          "model_module": "@jupyter-widgets/controls",
          "model_name": "HTMLModel",
          "model_module_version": "1.5.0",
          "state": {
            "_dom_classes": [],
            "_model_module": "@jupyter-widgets/controls",
            "_model_module_version": "1.5.0",
            "_model_name": "HTMLModel",
            "_view_count": null,
            "_view_module": "@jupyter-widgets/controls",
            "_view_module_version": "1.5.0",
            "_view_name": "HTMLView",
            "description": "",
            "description_tooltip": null,
            "layout": "IPY_MODEL_aaff460a6e004173a1e6cc98ba505286",
            "placeholder": "​",
            "style": "IPY_MODEL_8f1856b7c920486eb2449bdd4afbed5b",
            "value": " 3/3 [04:13&lt;00:00, 83.97s/it]"
          }
        },
        "2ce143bdfa814a81bb31d3372e7fbc68": {
          "model_module": "@jupyter-widgets/base",
          "model_name": "LayoutModel",
          "model_module_version": "1.2.0",
          "state": {
            "_model_module": "@jupyter-widgets/base",
            "_model_module_version": "1.2.0",
            "_model_name": "LayoutModel",
            "_view_count": null,
            "_view_module": "@jupyter-widgets/base",
            "_view_module_version": "1.2.0",
            "_view_name": "LayoutView",
            "align_content": null,
            "align_items": null,
            "align_self": null,
            "border": null,
            "bottom": null,
            "display": null,
            "flex": null,
            "flex_flow": null,
            "grid_area": null,
            "grid_auto_columns": null,
            "grid_auto_flow": null,
            "grid_auto_rows": null,
            "grid_column": null,
            "grid_gap": null,
            "grid_row": null,
            "grid_template_areas": null,
            "grid_template_columns": null,
            "grid_template_rows": null,
            "height": null,
            "justify_content": null,
            "justify_items": null,
            "left": null,
            "margin": null,
            "max_height": null,
            "max_width": null,
            "min_height": null,
            "min_width": null,
            "object_fit": null,
            "object_position": null,
            "order": null,
            "overflow": null,
            "overflow_x": null,
            "overflow_y": null,
            "padding": null,
            "right": null,
            "top": null,
            "visibility": null,
            "width": null
          }
        },
        "ac68bc091e5a4286805f9996ee2e6d2e": {
          "model_module": "@jupyter-widgets/base",
          "model_name": "LayoutModel",
          "model_module_version": "1.2.0",
          "state": {
            "_model_module": "@jupyter-widgets/base",
            "_model_module_version": "1.2.0",
            "_model_name": "LayoutModel",
            "_view_count": null,
            "_view_module": "@jupyter-widgets/base",
            "_view_module_version": "1.2.0",
            "_view_name": "LayoutView",
            "align_content": null,
            "align_items": null,
            "align_self": null,
            "border": null,
            "bottom": null,
            "display": null,
            "flex": null,
            "flex_flow": null,
            "grid_area": null,
            "grid_auto_columns": null,
            "grid_auto_flow": null,
            "grid_auto_rows": null,
            "grid_column": null,
            "grid_gap": null,
            "grid_row": null,
            "grid_template_areas": null,
            "grid_template_columns": null,
            "grid_template_rows": null,
            "height": null,
            "justify_content": null,
            "justify_items": null,
            "left": null,
            "margin": null,
            "max_height": null,
            "max_width": null,
            "min_height": null,
            "min_width": null,
            "object_fit": null,
            "object_position": null,
            "order": null,
            "overflow": null,
            "overflow_x": null,
            "overflow_y": null,
            "padding": null,
            "right": null,
            "top": null,
            "visibility": null,
            "width": null
          }
        },
        "1732921336474b8988927be777e52f6f": {
          "model_module": "@jupyter-widgets/controls",
          "model_name": "DescriptionStyleModel",
          "model_module_version": "1.5.0",
          "state": {
            "_model_module": "@jupyter-widgets/controls",
            "_model_module_version": "1.5.0",
            "_model_name": "DescriptionStyleModel",
            "_view_count": null,
            "_view_module": "@jupyter-widgets/base",
            "_view_module_version": "1.2.0",
            "_view_name": "StyleView",
            "description_width": ""
          }
        },
        "3303a4a6c2154c30aceff76712b4fa6a": {
          "model_module": "@jupyter-widgets/base",
          "model_name": "LayoutModel",
          "model_module_version": "1.2.0",
          "state": {
            "_model_module": "@jupyter-widgets/base",
            "_model_module_version": "1.2.0",
            "_model_name": "LayoutModel",
            "_view_count": null,
            "_view_module": "@jupyter-widgets/base",
            "_view_module_version": "1.2.0",
            "_view_name": "LayoutView",
            "align_content": null,
            "align_items": null,
            "align_self": null,
            "border": null,
            "bottom": null,
            "display": null,
            "flex": null,
            "flex_flow": null,
            "grid_area": null,
            "grid_auto_columns": null,
            "grid_auto_flow": null,
            "grid_auto_rows": null,
            "grid_column": null,
            "grid_gap": null,
            "grid_row": null,
            "grid_template_areas": null,
            "grid_template_columns": null,
            "grid_template_rows": null,
            "height": null,
            "justify_content": null,
            "justify_items": null,
            "left": null,
            "margin": null,
            "max_height": null,
            "max_width": null,
            "min_height": null,
            "min_width": null,
            "object_fit": null,
            "object_position": null,
            "order": null,
            "overflow": null,
            "overflow_x": null,
            "overflow_y": null,
            "padding": null,
            "right": null,
            "top": null,
            "visibility": null,
            "width": null
          }
        },
        "0ce4a6faa12b4751ac7c4887c47f64a9": {
          "model_module": "@jupyter-widgets/controls",
          "model_name": "ProgressStyleModel",
          "model_module_version": "1.5.0",
          "state": {
            "_model_module": "@jupyter-widgets/controls",
            "_model_module_version": "1.5.0",
            "_model_name": "ProgressStyleModel",
            "_view_count": null,
            "_view_module": "@jupyter-widgets/base",
            "_view_module_version": "1.2.0",
            "_view_name": "StyleView",
            "bar_color": null,
            "description_width": ""
          }
        },
        "aaff460a6e004173a1e6cc98ba505286": {
          "model_module": "@jupyter-widgets/base",
          "model_name": "LayoutModel",
          "model_module_version": "1.2.0",
          "state": {
            "_model_module": "@jupyter-widgets/base",
            "_model_module_version": "1.2.0",
            "_model_name": "LayoutModel",
            "_view_count": null,
            "_view_module": "@jupyter-widgets/base",
            "_view_module_version": "1.2.0",
            "_view_name": "LayoutView",
            "align_content": null,
            "align_items": null,
            "align_self": null,
            "border": null,
            "bottom": null,
            "display": null,
            "flex": null,
            "flex_flow": null,
            "grid_area": null,
            "grid_auto_columns": null,
            "grid_auto_flow": null,
            "grid_auto_rows": null,
            "grid_column": null,
            "grid_gap": null,
            "grid_row": null,
            "grid_template_areas": null,
            "grid_template_columns": null,
            "grid_template_rows": null,
            "height": null,
            "justify_content": null,
            "justify_items": null,
            "left": null,
            "margin": null,
            "max_height": null,
            "max_width": null,
            "min_height": null,
            "min_width": null,
            "object_fit": null,
            "object_position": null,
            "order": null,
            "overflow": null,
            "overflow_x": null,
            "overflow_y": null,
            "padding": null,
            "right": null,
            "top": null,
            "visibility": null,
            "width": null
          }
        },
        "8f1856b7c920486eb2449bdd4afbed5b": {
          "model_module": "@jupyter-widgets/controls",
          "model_name": "DescriptionStyleModel",
          "model_module_version": "1.5.0",
          "state": {
            "_model_module": "@jupyter-widgets/controls",
            "_model_module_version": "1.5.0",
            "_model_name": "DescriptionStyleModel",
            "_view_count": null,
            "_view_module": "@jupyter-widgets/base",
            "_view_module_version": "1.2.0",
            "_view_name": "StyleView",
            "description_width": ""
          }
        }
      }
    }
  },
  "nbformat": 4,
  "nbformat_minor": 0
}