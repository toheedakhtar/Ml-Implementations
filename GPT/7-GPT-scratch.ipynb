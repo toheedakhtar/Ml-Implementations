{
 "cells": [
  {
   "cell_type": "code",
   "execution_count": 1,
   "metadata": {},
   "outputs": [],
   "source": [
    "import torch\n",
    "import torch.nn as nn\n",
    "from torch.nn import functional as F\n",
    "import tiktoken"
   ]
  },
  {
   "cell_type": "code",
   "execution_count": 2,
   "metadata": {},
   "outputs": [
    {
     "name": "stdout",
     "output_type": "stream",
     "text": [
      "Defaulting to user installation because normal site-packages is not writeable\n",
      "Requirement already satisfied: tiktoken in /home/toheed/.local/lib/python3.10/site-packages (0.7.0)\n",
      "Requirement already satisfied: requests>=2.26.0 in /home/toheed/.local/lib/python3.10/site-packages (from tiktoken) (2.32.3)\n",
      "Requirement already satisfied: regex>=2022.1.18 in /home/toheed/.local/lib/python3.10/site-packages (from tiktoken) (2024.7.24)\n",
      "Requirement already satisfied: urllib3<3,>=1.21.1 in /usr/lib/python3/dist-packages (from requests>=2.26.0->tiktoken) (1.26.5)\n",
      "Requirement already satisfied: charset-normalizer<4,>=2 in /home/toheed/.local/lib/python3.10/site-packages (from requests>=2.26.0->tiktoken) (3.3.2)\n",
      "Requirement already satisfied: idna<4,>=2.5 in /usr/lib/python3/dist-packages (from requests>=2.26.0->tiktoken) (3.3)\n",
      "Requirement already satisfied: certifi>=2017.4.17 in /usr/lib/python3/dist-packages (from requests>=2.26.0->tiktoken) (2020.6.20)\n"
     ]
    }
   ],
   "source": [
    "! pip install tiktoken"
   ]
  },
  {
   "cell_type": "markdown",
   "metadata": {},
   "source": [
    "Building Dataset"
   ]
  },
  {
   "cell_type": "code",
   "execution_count": 3,
   "metadata": {},
   "outputs": [
    {
     "name": "stdout",
     "output_type": "stream",
     "text": [
      "--2024-09-04 11:11:51--  https://raw.githubusercontent.com/jcjohnson/torch-rnn/master/data/tiny-shakespeare.txt\n",
      "Resolving raw.githubusercontent.com (raw.githubusercontent.com)... 2606:50c0:8002::154, 2606:50c0:8003::154, 2606:50c0:8000::154, ...\n",
      "Connecting to raw.githubusercontent.com (raw.githubusercontent.com)|2606:50c0:8002::154|:443... connected.\n",
      "HTTP request sent, awaiting response... 200 OK\n",
      "Length: 1115394 (1.1M) [text/plain]\n",
      "Saving to: ‘tiny-shakespeare.txt.2’\n",
      "\n",
      "tiny-shakespeare.tx 100%[===================>]   1.06M   795KB/s    in 1.4s    \n",
      "\n",
      "2024-09-04 11:11:53 (795 KB/s) - ‘tiny-shakespeare.txt.2’ saved [1115394/1115394]\n",
      "\n"
     ]
    }
   ],
   "source": [
    "# ! wget https://raw.githubusercontent.com/jcjohnson/torch-rnn/master/data/tiny-shakespeare.txt"
   ]
  },
  {
   "cell_type": "code",
   "execution_count": 4,
   "metadata": {},
   "outputs": [
    {
     "name": "stdout",
     "output_type": "stream",
     "text": [
      "Length of dataset 1115394 \n",
      "\n",
      "First Citizen:\n",
      "Before we proceed any further, hear me speak.\n",
      "\n",
      "All:\n",
      "Speak, speak.\n",
      "\n",
      "First Citizen:\n",
      "You\n"
     ]
    }
   ],
   "source": [
    "with open('./../tiny-shakespeare.txt', 'r') as f:\n",
    "    text = f.read()\n",
    "\n",
    "print('Length of dataset', len(text), '\\n')\n",
    "print(text[:100])"
   ]
  },
  {
   "cell_type": "code",
   "execution_count": 5,
   "metadata": {},
   "outputs": [
    {
     "name": "stdout",
     "output_type": "stream",
     "text": [
      "\n",
      " !$&',-.3:;?ABCDEFGHIJKLMNOPQRSTUVWXYZabcdefghijklmnopqrstuvwxyz\n",
      "\n",
      "Vocabulary size: 65\n"
     ]
    }
   ],
   "source": [
    "chars = sorted(list(set(text)))\n",
    "vocab_size = len(chars)\n",
    "print(''.join(chars))\n",
    "print(f'\\nVocabulary size: {vocab_size}')"
   ]
  },
  {
   "cell_type": "code",
   "execution_count": 6,
   "metadata": {},
   "outputs": [
    {
     "name": "stdout",
     "output_type": "stream",
     "text": [
      "[46, 47, 47, 1, 58, 46, 43, 56, 43]\n",
      "hii there\n"
     ]
    }
   ],
   "source": [
    "# encode and decoder\n",
    "stoi = {ch:i for i,ch in enumerate(chars)}\n",
    "itos = {i:ch for i,ch in enumerate(chars)}\n",
    "encode = lambda s: [stoi[c] for c in s]\n",
    "decode = lambda l: ''.join([itos[i] for i in l])\n",
    "\n",
    "msg = 'hii there'\n",
    "token_list = encode(msg)\n",
    "print(token_list)\n",
    "print(decode(token_list))\n"
   ]
  },
  {
   "cell_type": "markdown",
   "metadata": {},
   "source": [
    "Digression - TikToken"
   ]
  },
  {
   "cell_type": "code",
   "execution_count": 7,
   "metadata": {},
   "outputs": [
    {
     "name": "stdout",
     "output_type": "stream",
     "text": [
      "[71, 4178, 612]\n",
      "hii there\n",
      "50257\n"
     ]
    }
   ],
   "source": [
    "enc = tiktoken.get_encoding('gpt2')\n",
    "\n",
    "msg = 'hii there'\n",
    "token_list = enc.encode(msg)\n",
    "print(token_list)\n",
    "print(enc.decode(enc.encode('hii there')))\n",
    "\n",
    "print(enc.n_vocab)"
   ]
  },
  {
   "cell_type": "markdown",
   "metadata": {},
   "source": [
    "Tokenizing the dataset"
   ]
  },
  {
   "cell_type": "code",
   "execution_count": 8,
   "metadata": {},
   "outputs": [
    {
     "name": "stdout",
     "output_type": "stream",
     "text": [
      "Total size: torch.Size([1115394]) elements of type torch.int64\n",
      "First 10 token form dataset tensor([18, 47, 56, 57, 58,  1, 15, 47, 58, 47])\n"
     ]
    }
   ],
   "source": [
    "data = torch.tensor(encode(text), dtype=torch.long)\n",
    "print(f'Total size: {data.shape} elements of type {data.dtype}')\n",
    "print('First 10 token form dataset', data[:10])"
   ]
  },
  {
   "cell_type": "markdown",
   "metadata": {},
   "source": [
    "Splitting the dataset"
   ]
  },
  {
   "cell_type": "code",
   "execution_count": 9,
   "metadata": {},
   "outputs": [
    {
     "name": "stdout",
     "output_type": "stream",
     "text": [
      "1003854\n"
     ]
    }
   ],
   "source": [
    "n = int(0.9 * len(data)) # split here 90%\n",
    "print(n)\n",
    "train_data = data[:n]\n",
    "val_data = data[n:]"
   ]
  },
  {
   "cell_type": "code",
   "execution_count": 10,
   "metadata": {},
   "outputs": [
    {
     "data": {
      "text/plain": [
       "tensor([18, 47, 56, 57, 58,  1, 15, 47, 58])"
      ]
     },
     "execution_count": 10,
     "metadata": {},
     "output_type": "execute_result"
    }
   ],
   "source": [
    "block_size = 8\n",
    "train_data[:block_size + 1]"
   ]
  },
  {
   "cell_type": "code",
   "execution_count": 11,
   "metadata": {},
   "outputs": [
    {
     "name": "stdout",
     "output_type": "stream",
     "text": [
      "when the prompt is tensor([18]), predict is 47\n",
      "when the prompt is tensor([18, 47]), predict is 56\n",
      "when the prompt is tensor([18, 47, 56]), predict is 57\n",
      "when the prompt is tensor([18, 47, 56, 57]), predict is 58\n",
      "when the prompt is tensor([18, 47, 56, 57, 58]), predict is 1\n",
      "when the prompt is tensor([18, 47, 56, 57, 58,  1]), predict is 15\n",
      "when the prompt is tensor([18, 47, 56, 57, 58,  1, 15]), predict is 47\n",
      "when the prompt is tensor([18, 47, 56, 57, 58,  1, 15, 47]), predict is 58\n"
     ]
    }
   ],
   "source": [
    "# first block \n",
    "x = train_data[:block_size]\n",
    "# individual token shifted by one\n",
    "y = train_data[1:block_size+1]\n",
    "\n",
    "for t in range(block_size):\n",
    "    context = x[:t+1]\n",
    "    target = y[t]\n",
    "    print(f'when the prompt is {context}, predict is {target}')"
   ]
  },
  {
   "cell_type": "code",
   "execution_count": 12,
   "metadata": {},
   "outputs": [],
   "source": [
    "torch.manual_seed(1337)\n",
    "batch_size = 4 # number of sequence to be processed in parallel (for gpu)\n",
    "block_size = 8 # length of sequence "
   ]
  },
  {
   "cell_type": "code",
   "execution_count": 13,
   "metadata": {},
   "outputs": [
    {
     "name": "stdout",
     "output_type": "stream",
     "text": [
      "inputs shape:  torch.Size([4, 8])\n",
      "tensor([[24, 43, 58,  5, 57,  1, 46, 43],\n",
      "        [44, 53, 56,  1, 58, 46, 39, 58],\n",
      "        [52, 58,  1, 58, 46, 39, 58,  1],\n",
      "        [25, 17, 27, 10,  0, 21,  1, 54]]) \n",
      "\n",
      "targets shape:  torch.Size([4, 8])\n",
      "tensor([[43, 58,  5, 57,  1, 46, 43, 39],\n",
      "        [53, 56,  1, 58, 46, 39, 58,  1],\n",
      "        [58,  1, 58, 46, 39, 58,  1, 46],\n",
      "        [17, 27, 10,  0, 21,  1, 54, 39]]) \n",
      "\n",
      "When the prompt is tensor([24]), predict 43\n",
      "When the prompt is tensor([24, 43]), predict 58\n",
      "When the prompt is tensor([24, 43, 58]), predict 5\n",
      "When the prompt is tensor([24, 43, 58,  5]), predict 57\n",
      "When the prompt is tensor([24, 43, 58,  5, 57]), predict 1\n",
      "When the prompt is tensor([24, 43, 58,  5, 57,  1]), predict 46\n",
      "When the prompt is tensor([24, 43, 58,  5, 57,  1, 46]), predict 43\n",
      "When the prompt is tensor([24, 43, 58,  5, 57,  1, 46, 43]), predict 39\n",
      "When the prompt is tensor([44]), predict 53\n",
      "When the prompt is tensor([44, 53]), predict 56\n",
      "When the prompt is tensor([44, 53, 56]), predict 1\n",
      "When the prompt is tensor([44, 53, 56,  1]), predict 58\n",
      "When the prompt is tensor([44, 53, 56,  1, 58]), predict 46\n",
      "When the prompt is tensor([44, 53, 56,  1, 58, 46]), predict 39\n",
      "When the prompt is tensor([44, 53, 56,  1, 58, 46, 39]), predict 58\n",
      "When the prompt is tensor([44, 53, 56,  1, 58, 46, 39, 58]), predict 1\n",
      "When the prompt is tensor([52]), predict 58\n",
      "When the prompt is tensor([52, 58]), predict 1\n",
      "When the prompt is tensor([52, 58,  1]), predict 58\n",
      "When the prompt is tensor([52, 58,  1, 58]), predict 46\n",
      "When the prompt is tensor([52, 58,  1, 58, 46]), predict 39\n",
      "When the prompt is tensor([52, 58,  1, 58, 46, 39]), predict 58\n",
      "When the prompt is tensor([52, 58,  1, 58, 46, 39, 58]), predict 1\n",
      "When the prompt is tensor([52, 58,  1, 58, 46, 39, 58,  1]), predict 46\n",
      "When the prompt is tensor([25]), predict 17\n",
      "When the prompt is tensor([25, 17]), predict 27\n",
      "When the prompt is tensor([25, 17, 27]), predict 10\n",
      "When the prompt is tensor([25, 17, 27, 10]), predict 0\n",
      "When the prompt is tensor([25, 17, 27, 10,  0]), predict 21\n",
      "When the prompt is tensor([25, 17, 27, 10,  0, 21]), predict 1\n",
      "When the prompt is tensor([25, 17, 27, 10,  0, 21,  1]), predict 54\n",
      "When the prompt is tensor([25, 17, 27, 10,  0, 21,  1, 54]), predict 39\n"
     ]
    }
   ],
   "source": [
    "def get_batch(split, batch_size):\n",
    "    data = train_data if split == 'train' else val_data\n",
    "    # Tensor of shape (batch_size,) with random sequence start indices between 0 and len(data) - block_size\n",
    "    ix = torch.randint(len(data) - block_size, (batch_size,))\n",
    "\n",
    "    # Accumulate and add each sequence of this batch to form a tensor\n",
    "    x = torch.stack([data[i:i+block_size] for i in ix])\n",
    "    # Same as x but shifted by one token\n",
    "    y = torch.stack([data[i+1:i+block_size+1] for i in ix])\n",
    "    return x , y\n",
    "\n",
    "xb , yb = get_batch('train', batch_size)\n",
    "\n",
    "print('inputs shape: ', xb.shape)\n",
    "print(xb,'\\n')\n",
    "print('targets shape: ', yb.shape)\n",
    "print(yb, '\\n')\n",
    "\n",
    "# print first batch \n",
    "for b in range(batch_size):\n",
    "    for t in range(block_size):\n",
    "        context = xb[b, :t+1]\n",
    "        target = yb[b,t]\n",
    "        print(f'When the prompt is {context}, predict {target}')"
   ]
  },
  {
   "cell_type": "markdown",
   "metadata": {},
   "source": [
    "Embedding Layer"
   ]
  },
  {
   "cell_type": "code",
   "execution_count": 14,
   "metadata": {},
   "outputs": [
    {
     "name": "stdout",
     "output_type": "stream",
     "text": [
      "Vocabulary size: 65\n",
      "torch.Size([4, 8, 65])\n"
     ]
    }
   ],
   "source": [
    "torch.manual_seed(1337)\n",
    "\n",
    "class BigramLM(nn.Module):\n",
    "\n",
    "    def __init__(self, vocab_size):\n",
    "        super().__init__()\n",
    "        # embedding the vocabulary\n",
    "        # Every one of the vocab_size tokens is represented by a vector of size vocab_size\n",
    "        self.embed = nn.Embedding(vocab_size, vocab_size) # 65 unique 65-dim vectors\n",
    "    \n",
    "    def forward(self, idx, targets):\n",
    "        # idx - shape (batch_size, block_size)\n",
    "        # targets - shape (batch_size, block_size)\n",
    "        # Embed the input indices, shape is now (batch_size, block_size, vocab_size) (B, T, C)\n",
    "        logits = self.embed(idx)\n",
    "        return logits\n",
    "    \n",
    "print('Vocabulary size:', vocab_size)  # Length of the vocabulary list (this includes the space character)\n",
    "m = BigramLM(vocab_size)  # Instantiate the model\n",
    "out = m.forward(xb, yb)           # Forward pass (yb remains unused for now)\n",
    "print(out.shape)    # (batch_size, block_size, vocab_size) -> 4 times 8 characters, each embedded as a 65-dim vector\n",
    "\n"
   ]
  },
  {
   "cell_type": "markdown",
   "metadata": {},
   "source": [
    "Setting up Loss Functions"
   ]
  },
  {
   "cell_type": "code",
   "execution_count": 15,
   "metadata": {},
   "outputs": [
    {
     "name": "stdout",
     "output_type": "stream",
     "text": [
      "Vocabulary size: 65\n",
      "torch.Size([32, 65])\n",
      "4.878634929656982\n"
     ]
    }
   ],
   "source": [
    "torch.manual_seed(1337)\n",
    "\n",
    "class BigramLM(nn.Module):\n",
    "\n",
    "    def __init__(self, vocab_size):\n",
    "        super().__init__()\n",
    "        # embedding the vocabulary\n",
    "        # Every one of the vocab_size tokens is represented by a vector of size vocab_size\n",
    "        self.embed = nn.Embedding(vocab_size, vocab_size) # 65 unique 65-dim vectors\n",
    "    \n",
    "    def forward(self, idx, targets):\n",
    "        logits = self.embed(idx)      # Embed the input indices, shape is now (batch_size, block_size, vocab_size) (B, T, C)\n",
    "        B, T, C = logits.shape        # B = batch_size, T = block_size, C = vocab_size\n",
    "        logits = logits.view(B*T, C)  # Transpose logits to (B*T, C)\n",
    "        # This is the first time we actively use the targets:\n",
    "        targets = targets.view(B*T)   # Transpose targets to (B*T) (targets contains the next token's index for each input sequence in the batch)\n",
    "        loss = F.cross_entropy(logits, targets)  # Calculating cross entropy loss across all tokens in the batch (using targets to plug out the correct token for each input sequence)\n",
    "        return logits, loss\n",
    "\n",
    "    \n",
    "print('Vocabulary size:', vocab_size)  # Length of the vocabulary list (this includes the space character)\n",
    "m = BigramLM(vocab_size)  # Instantiate the model\n",
    "logits, loss = m(xb, yb)\n",
    "print(logits.shape)\n",
    "print(loss.item())\n",
    "\n"
   ]
  },
  {
   "cell_type": "markdown",
   "metadata": {},
   "source": [
    "> adding genrate() to BigramLM"
   ]
  },
  {
   "cell_type": "code",
   "execution_count": 16,
   "metadata": {},
   "outputs": [
    {
     "name": "stdout",
     "output_type": "stream",
     "text": [
      "Vocabulary size: 65\n",
      "torch.Size([32, 65]) \n",
      " tensor(4.8786, grad_fn=<NllLossBackward0>)\n"
     ]
    }
   ],
   "source": [
    "torch.manual_seed(1337)\n",
    "\n",
    "class BigramLM(nn.Module):\n",
    "\n",
    "    def __init__(self, vocab_size):\n",
    "        super().__init__()\n",
    "        # embedding the vocabulary\n",
    "        # Every one of the vocab_size tokens is represented by a vector of size vocab_size\n",
    "        self.embed = nn.Embedding(vocab_size, vocab_size) # 65 unique 65-dim vectors\n",
    "    \n",
    "    def forward(self, idx, targets=None):\n",
    "        logits = self.embed(idx)                               # Embed the input indices, shape is now (batch_size, block_size, vocab_size) (B, T, C)\n",
    "        if targets is None:\n",
    "            loss = None\n",
    "        else:\n",
    "            B, T, C = logits.shape\n",
    "            logits = logits.view(B*T, C)                       # Transpose logits to (B, C, T) (B=batch_size, T=block_size, C=vocab_size)\n",
    "            targets = targets.view(B*T)                        # Transpose targets to (B, T)\n",
    "            loss = F.cross_entropy(logits, targets)            # Calculating cross entropy loss across all tokens in the batch\n",
    "        return logits, loss\n",
    "    \n",
    "    def generate(self, idx, max_new_tokens):\n",
    "        for _ in range(max_new_tokens):\n",
    "            logits, _ = self(idx)\n",
    "            logits = logits[:, -1, :]\n",
    "            probs = F.softmax(logits, dim=-1)\n",
    "            idx_next = torch.multinomial(probs, num_samples=1)\n",
    "            idx = torch.cat((idx, idx_next), dim=1)\n",
    "        return idx\n",
    "   \n",
    "print('Vocabulary size:', vocab_size)  # Length of the vocabulary list (this includes the space character)\n",
    "m = BigramLM(vocab_size)  # Instantiate \n",
    "logits, loss = m(xb, yb)\n",
    "\n",
    "print(logits.shape, '\\n', loss)\n",
    "\n"
   ]
  },
  {
   "cell_type": "markdown",
   "metadata": {},
   "source": [
    "Producing First Text"
   ]
  },
  {
   "cell_type": "code",
   "execution_count": 17,
   "metadata": {},
   "outputs": [
    {
     "name": "stdout",
     "output_type": "stream",
     "text": [
      "torch.Size([1, 101])\n",
      "\n",
      "Sr?qP-QWktXoL&jLDJgOLVz'RIoDqHdhsV&vLLxatjscMpwLERSPyao.qfzs$Ys$zF-w,;eEkzxjgCKFChs!iWW.ObzDnxA Ms$3\n"
     ]
    }
   ],
   "source": [
    "ix = torch.zeros((1, 1), dtype=torch.long)  # Start with a single tensor of shape (1, 1) holding a 0 (new line)\n",
    "tokens = m.generate(ix, max_new_tokens=100) # Generate 100 tokens as a sequence of indices\n",
    "print(tokens.shape)                         # Print the shape of the resulting sequence of tokens\n",
    "print(decode(tokens[0].tolist()))           # Decode the resulting sequence of indices to a string"
   ]
  },
  {
   "cell_type": "markdown",
   "metadata": {},
   "source": [
    "train"
   ]
  },
  {
   "cell_type": "code",
   "execution_count": 18,
   "metadata": {},
   "outputs": [],
   "source": [
    "opt = torch.optim.AdamW(m.parameters(), lr=1e-3)"
   ]
  },
  {
   "cell_type": "code",
   "execution_count": 19,
   "metadata": {},
   "outputs": [
    {
     "name": "stdout",
     "output_type": "stream",
     "text": [
      "Loss at steps 0: 4.704006195068359\n",
      "Loss at steps 100: 4.658433437347412\n",
      "Loss at steps 200: 4.470171928405762\n",
      "Loss at steps 300: 4.320702075958252\n",
      "Loss at steps 400: 4.252743721008301\n",
      "Loss at steps 500: 4.241008758544922\n",
      "Loss at steps 600: 4.161406517028809\n",
      "Loss at steps 700: 4.044336795806885\n",
      "Loss at steps 800: 4.091874122619629\n",
      "Loss at steps 900: 3.7458465099334717\n",
      "Loss at steps 1000: 3.7031264305114746\n",
      "Loss at steps 1100: 3.7115283012390137\n",
      "Loss at steps 1200: 3.6330997943878174\n",
      "Loss at steps 1300: 3.422212600708008\n",
      "Loss at steps 1400: 3.4295449256896973\n",
      "Loss at steps 1500: 3.4233598709106445\n",
      "Loss at steps 1600: 3.3018524646759033\n",
      "Loss at steps 1700: 3.283510446548462\n",
      "Loss at steps 1800: 3.188281774520874\n",
      "Loss at steps 1900: 3.2000553607940674\n",
      "Loss at steps 2000: 3.1371781826019287\n",
      "Loss at steps 2100: 3.0028276443481445\n",
      "Loss at steps 2200: 3.058077812194824\n",
      "Loss at steps 2300: 2.958632707595825\n",
      "Loss at steps 2400: 2.981365919113159\n",
      "Loss at steps 2500: 2.9196817874908447\n",
      "Loss at steps 2600: 2.8414011001586914\n",
      "Loss at steps 2700: 2.8905837535858154\n",
      "Loss at steps 2800: 2.9735329151153564\n",
      "Loss at steps 2900: 2.808624029159546\n",
      "Loss at steps 3000: 2.776794672012329\n",
      "Loss at steps 3100: 2.748556137084961\n",
      "Loss at steps 3200: 2.687368392944336\n",
      "Loss at steps 3300: 2.682086944580078\n",
      "Loss at steps 3400: 2.688863754272461\n",
      "Loss at steps 3500: 2.809856414794922\n",
      "Loss at steps 3600: 2.6931402683258057\n",
      "Loss at steps 3700: 2.665353298187256\n",
      "Loss at steps 3800: 2.632939100265503\n",
      "Loss at steps 3900: 2.75382924079895\n",
      "Loss at steps 4000: 2.5844571590423584\n",
      "Loss at steps 4100: 2.630505323410034\n",
      "Loss at steps 4200: 2.6259851455688477\n",
      "Loss at steps 4300: 2.5507774353027344\n",
      "Loss at steps 4400: 2.5834596157073975\n",
      "Loss at steps 4500: 2.6057393550872803\n",
      "Loss at steps 4600: 2.6198649406433105\n",
      "Loss at steps 4700: 2.5730929374694824\n",
      "Loss at steps 4800: 2.5133121013641357\n",
      "Loss at steps 4900: 2.6088051795959473\n",
      "Loss at steps 5000: 2.5105180740356445\n",
      "Loss at steps 5100: 2.574131727218628\n",
      "Loss at steps 5200: 2.4975621700286865\n",
      "Loss at steps 5300: 2.525254487991333\n",
      "Loss at steps 5400: 2.4852945804595947\n",
      "Loss at steps 5500: 2.548015594482422\n",
      "Loss at steps 5600: 2.577272415161133\n",
      "Loss at steps 5700: 2.602153778076172\n",
      "Loss at steps 5800: 2.3584301471710205\n",
      "Loss at steps 5900: 2.448211908340454\n",
      "Loss at steps 6000: 2.531585931777954\n",
      "Loss at steps 6100: 2.497115135192871\n",
      "Loss at steps 6200: 2.446481943130493\n",
      "Loss at steps 6300: 2.4474494457244873\n",
      "Loss at steps 6400: 2.5307929515838623\n",
      "Loss at steps 6500: 2.4708240032196045\n",
      "Loss at steps 6600: 2.5558059215545654\n",
      "Loss at steps 6700: 2.469895839691162\n",
      "Loss at steps 6800: 2.605414867401123\n",
      "Loss at steps 6900: 2.570693254470825\n",
      "Loss at steps 7000: 2.504757881164551\n",
      "Loss at steps 7100: 2.444789171218872\n",
      "Loss at steps 7200: 2.5223405361175537\n",
      "Loss at steps 7300: 2.4506444931030273\n",
      "Loss at steps 7400: 2.410496234893799\n",
      "Loss at steps 7500: 2.400172472000122\n",
      "Loss at steps 7600: 2.4295127391815186\n",
      "Loss at steps 7700: 2.424211025238037\n",
      "Loss at steps 7800: 2.494037389755249\n",
      "Loss at steps 7900: 2.438490390777588\n",
      "Loss at steps 8000: 2.4696712493896484\n",
      "Loss at steps 8100: 2.4945294857025146\n",
      "Loss at steps 8200: 2.4096617698669434\n",
      "Loss at steps 8300: 2.6117146015167236\n",
      "Loss at steps 8400: 2.4675140380859375\n",
      "Loss at steps 8500: 2.4209394454956055\n",
      "Loss at steps 8600: 2.4633748531341553\n",
      "Loss at steps 8700: 2.4416561126708984\n",
      "Loss at steps 8800: 2.634512186050415\n",
      "Loss at steps 8900: 2.3378663063049316\n",
      "Loss at steps 9000: 2.4838879108428955\n",
      "Loss at steps 9100: 2.534738779067993\n",
      "Loss at steps 9200: 2.58534574508667\n",
      "Loss at steps 9300: 2.3732097148895264\n",
      "Loss at steps 9400: 2.4463818073272705\n",
      "Loss at steps 9500: 2.407996892929077\n",
      "Loss at steps 9600: 2.525811195373535\n",
      "Loss at steps 9700: 2.521479845046997\n",
      "Loss at steps 9800: 2.4382166862487793\n",
      "Loss at steps 9900: 2.4321024417877197\n"
     ]
    }
   ],
   "source": [
    "batch_size = 32\n",
    "losses = []\n",
    "\n",
    "for steps in range(10000):\n",
    "    xb, yb = get_batch('train', batch_size)     # sample batch of data\n",
    "    logits, loss = m(xb, yb)                    # forward pass\n",
    "    loss.backward()                             # Backdrop with pytorch autograd (updt. logits - the embedding vector)\n",
    "\n",
    "    opt.step()                                   # update weights\n",
    "    opt.zero_grad()                              # Set gradients to zero\n",
    "\n",
    "    if steps % 100 == 0:\n",
    "        print(f'Loss at steps {steps}: {loss.item()}')\n",
    "        losses.append(loss.item())"
   ]
  },
  {
   "cell_type": "code",
   "execution_count": 20,
   "metadata": {},
   "outputs": [
    {
     "name": "stdout",
     "output_type": "stream",
     "text": [
      "\n",
      "Iyoteng h hasbe pave pirance\n",
      "Rie hicomyonthar's\n",
      "Plinseard ith henoure wounonthioneir thondy, y heltieiengerofo'dsssit ey\n",
      "KIN d pe wither vouprrouthercc.\n",
      "hathe; d!\n",
      "My hind tt hinig t ouchos tes; st yo hind wotte grotonear 'so it t jod weancotha:\n",
      "h hay.JUCle n prids, r loncave w hollular s O:\n",
      "HIs; ht anjx?\n",
      "\n",
      "DUThinqunt.\n",
      "\n",
      "LaZAnde.\n",
      "athave l.\n",
      "KEONH:\n",
      "ARThanco be y,-hedarwnoddy scace, tridesar, wnl'shenous s ls, theresseys\n",
      "PlorseelapinghiybHen yof GLUCEN t l-t E:\n",
      "I hisgothers je are!-e!\n",
      "QLYotouciullle'z,\n",
      "Thitertho s?\n",
      "NDan'spererfo cist ripl chys er orlese;\n",
      "Yo jehof h hecere ek? wferommot mowo soaf yoit, ince his, t, f at. fal whetrimy bupof tor atha Bu!\n",
      "JOutho f cimimave.\n",
      "NEDUSt cir selle p wie wede\n",
      "Ro n apenor f'Y tover witys an sh d w t e w!\n",
      "CEOntiretoaveE IINpe, theck. cung.\n",
      "ORIsthies hacin benqurd bll, d a r w wistatsowor ath\n",
      "Fivet bloll ang a-I theeancu,\n",
      "LINCI'T:\n",
      "Sarry t I Ane sze t\n",
      "LCKI thit,\n",
      "n.\n",
      "Faure ds ppplirn!\n",
      "meftou ow pring, avewist th;\n",
      "TENTEMETCI gienco, An he waro whiougou he s im\n"
     ]
    }
   ],
   "source": [
    "# sampling from model \n",
    "print(decode(m.generate(torch.zeros((1,1,), dtype=torch.long), max_new_tokens=1000)[0].tolist()))"
   ]
  },
  {
   "cell_type": "code",
   "execution_count": 21,
   "metadata": {},
   "outputs": [
    {
     "data": {
      "text/plain": [
       "[<matplotlib.lines.Line2D at 0x74757972eb60>]"
      ]
     },
     "execution_count": 21,
     "metadata": {},
     "output_type": "execute_result"
    },
    {
     "data": {
      "image/png": "[encoded data removed]",
      "text/plain": [
       "<Figure size 640x480 with 1 Axes>"
      ]
     },
     "metadata": {},
     "output_type": "display_data"
    }
   ],
   "source": [
    "import matplotlib.pyplot as plt \n",
    "plt.plot(losses)"
   ]
  },
  {
   "cell_type": "markdown",
   "metadata": {},
   "source": [
    "The mathematical trick in Self-Attention"
   ]
  },
  {
   "cell_type": "code",
   "execution_count": 22,
   "metadata": {},
   "outputs": [],
   "source": [
    "torch.manual_seed(1337)\n",
    "B, T, C = 4, 8, 2\n",
    "x = torch.randn(B, T, C)\n"
   ]
  },
  {
   "cell_type": "code",
   "execution_count": 23,
   "metadata": {},
   "outputs": [
    {
     "name": "stdout",
     "output_type": "stream",
     "text": [
      "Batch [0]:\n",
      " tensor([[ 0.1808, -0.0700],\n",
      "        [-0.3596, -0.9152],\n",
      "        [ 0.6258,  0.0255],\n",
      "        [ 0.9545,  0.0643],\n",
      "        [ 0.3612,  1.1679],\n",
      "        [-1.3499, -0.5102],\n",
      "        [ 0.2360, -0.2398],\n",
      "        [-0.9211,  1.5433]]) \n",
      "\n",
      "Running Average:\n",
      " tensor([[ 0.1808, -0.0700],\n",
      "        [-0.0894, -0.4926],\n",
      "        [ 0.1490, -0.3199],\n",
      "        [ 0.3504, -0.2238],\n",
      "        [ 0.3525,  0.0545],\n",
      "        [ 0.0688, -0.0396],\n",
      "        [ 0.0927, -0.0682],\n",
      "        [-0.0341,  0.1332]])\n"
     ]
    }
   ],
   "source": [
    "xbow = torch.zeros((B,T,C))         # Create tensor of zeros of shape (B, T, C) \n",
    "for b in range(B):                       # For all batches\n",
    "    for t in range(T):                  #  For all tokens in the batch  \n",
    "        xprev = x[b, :t+1]             # Get all tokens up to and including the current token \n",
    "        xbow[b,t] = xprev.mean(dim=0)  # Calculate the mean of the tokens up to and including the current token\n",
    "\n",
    "print('Batch [0]:\\n', x[0], '\\n')\n",
    "print('Running Average:\\n', xbow[0])"
   ]
  },
  {
   "cell_type": "code",
   "execution_count": 24,
   "metadata": {},
   "outputs": [
    {
     "name": "stdout",
     "output_type": "stream",
     "text": [
      "a (ones) =\n",
      "tensor([[1., 1., 1.],\n",
      "        [1., 1., 1.],\n",
      "        [1., 1., 1.]])\n",
      "\n",
      "b (random) =\n",
      "tensor([[2., 7.],\n",
      "        [6., 4.],\n",
      "        [6., 5.]])\n",
      "\n",
      "c = a @ b =\n",
      "tensor([[14., 16.],\n",
      "        [14., 16.],\n",
      "        [14., 16.]])\n",
      "\n"
     ]
    }
   ],
   "source": [
    "# loops are inefficent so , \n",
    "torch.manual_seed(42)\n",
    "a = torch.ones(3,3)\n",
    "b = torch.randint(0,10,(3,2)).float()\n",
    "c = a @ b\n",
    "\n",
    "print(f'a (ones) =\\n{a}\\n')\n",
    "print(f'b (random) =\\n{b}\\n')\n",
    "print(f'c = a @ b =\\n{c}\\n')\n"
   ]
  },
  {
   "cell_type": "code",
   "execution_count": 25,
   "metadata": {},
   "outputs": [
    {
     "name": "stdout",
     "output_type": "stream",
     "text": [
      "a (ones + tril) =\n",
      "tensor([[1., 0., 0.],\n",
      "        [1., 1., 0.],\n",
      "        [1., 1., 1.]])\n",
      "\n",
      "b (random) =\n",
      "tensor([[2., 7.],\n",
      "        [6., 4.],\n",
      "        [6., 5.]])\n",
      "\n",
      "c = a @ b =\n",
      "tensor([[ 2.,  7.],\n",
      "        [ 8., 11.],\n",
      "        [14., 16.]])\n",
      "\n"
     ]
    }
   ],
   "source": [
    "torch.manual_seed(42)\n",
    "a = torch.tril(torch.ones(3, 3))            # Lower triangular matrix of ones (tril used here)\n",
    "b = torch.randint(0, 10, (3, 2)).float()    # 3x2 matrix of random integers between 0 and 9\n",
    "c = a @ b                                   # Matrix multiplication of a and b\n",
    "\n",
    "print(f'a (ones + tril) =\\n{a}\\n')\n",
    "print(f'b (random) =\\n{b}\\n')\n",
    "print(f'c = a @ b =\\n{c}\\n')\n"
   ]
  },
  {
   "cell_type": "code",
   "execution_count": 26,
   "metadata": {},
   "outputs": [
    {
     "name": "stdout",
     "output_type": "stream",
     "text": [
      "a (ones + tril + avg) =\n",
      "tensor([[1.0000, 0.0000, 0.0000],\n",
      "        [0.5000, 0.5000, 0.0000],\n",
      "        [0.3333, 0.3333, 0.3333]])\n",
      "\n",
      "b (random) =\n",
      "tensor([[2., 7.],\n",
      "        [6., 4.],\n",
      "        [6., 5.]])\n",
      "\n",
      "c = a @ b =\n",
      "tensor([[2.0000, 7.0000],\n",
      "        [4.0000, 5.5000],\n",
      "        [4.6667, 5.3333]])\n",
      "\n"
     ]
    }
   ],
   "source": [
    "torch.manual_seed(42)\n",
    "a = torch.tril(torch.ones(3, 3))   # Lower triangular matrix of ones\n",
    "a = a / a.sum(dim=1, keepdim=True) # Normalize the matrix by dividing along each row\n",
    "b = torch.randint(0, 10, (3, 2)).float() # 3x2 matrix of random integers between 0 and 9\n",
    "c = a @ b                                # Matrix multiplication of a and b\n",
    "\n",
    "print(f'a (ones + tril + avg) =\\n{a}\\n')\n",
    "print(f'b (random) =\\n{b}\\n')\n",
    "print(f'c = a @ b =\\n{c}\\n')"
   ]
  },
  {
   "cell_type": "code",
   "execution_count": 27,
   "metadata": {},
   "outputs": [
    {
     "data": {
      "text/plain": [
       "True"
      ]
     },
     "execution_count": 27,
     "metadata": {},
     "output_type": "execute_result"
    }
   ],
   "source": [
    "# applying this to our context, we can get the running average of the tokens in the batch \n",
    "# by multiplying the batch with torch.tril(a)\n",
    "\n",
    "B, T, C = 4, 8 , 2\n",
    "x = torch.randn(B, T, C)\n",
    "\n",
    "# old \n",
    "xbow = torch.zeros((B,T,C))\n",
    "for b in range(B):\n",
    "    for t in range(T):\n",
    "        xprev = x[b, :t+1]\n",
    "        xbow[b,t] = xprev.mean(dim = 0)\n",
    "    \n",
    "# new \n",
    "wei = torch.tril(torch.ones(T,T))\n",
    "wei = wei / wei.sum(dim=1, keepdim=True)\n",
    "xbow2 = wei @ x     # (T, T) @ (B, T, C) -> PyTorch's Auto-Stride -> (B, T, T) @ (B, T, C) = (B, T, C)\n",
    "\n",
    "\n",
    "torch.allclose(xbow, xbow2)"
   ]
  },
  {
   "cell_type": "markdown",
   "metadata": {},
   "source": [
    "adding softmax"
   ]
  },
  {
   "cell_type": "code",
   "execution_count": 28,
   "metadata": {},
   "outputs": [
    {
     "data": {
      "text/plain": [
       "True"
      ]
     },
     "execution_count": 28,
     "metadata": {},
     "output_type": "execute_result"
    }
   ],
   "source": [
    "# New:\n",
    "wei = torch.tril(torch.ones(T, T))       # Lower triangular matrix of ones\n",
    "wei = wei / wei.sum(dim=1, keepdim=True) # Normalizing wei by dividing by the sum of each row\n",
    "xbow2 = wei @ x                          # (T, T) @ (B, T, C) -> (B, T, T) @ (B, T, C) = (B, T, C)\n",
    "\n",
    "# Newer:\n",
    "tril = torch.tril(torch.ones(T,T))\n",
    "\n",
    "wei = torch.zeros((T,T))\n",
    "# print(wei)\n",
    "wei = wei.masked_fill(tril == 0, float('-inf'))\n",
    "# print(wei)\n",
    "wei = F.softmax(wei, dim=-1)\n",
    "\n",
    "xbow3 = wei @ x\n",
    "torch.allclose(xbow2, xbow3)"
   ]
  },
  {
   "cell_type": "code",
   "execution_count": 29,
   "metadata": {},
   "outputs": [
    {
     "name": "stdout",
     "output_type": "stream",
     "text": [
      "tensor([[0., 0., -inf, -inf, -inf, -inf, -inf],\n",
      "        [0., 0., 0., -inf, -inf, -inf, -inf]])\n",
      "tensor([[0.5000, 0.5000, 0.0000, 0.0000, 0.0000, 0.0000, 0.0000],\n",
      "        [0.3333, 0.3333, 0.3333, 0.0000, 0.0000, 0.0000, 0.0000]])\n"
     ]
    }
   ],
   "source": [
    "# row wise softmax\n",
    "\n",
    "exwei = torch.tensor([[0, 0, float('-inf'), float('-inf'), float('-inf'), float('-inf'), float('-inf')],  [0, 0, 0, float('-inf'), float('-inf'), float('-inf'), float('-inf')]])\n",
    "print(exwei)\n",
    "exsof = F.softmax(exwei, dim=-1) # -1 means the last dimension\n",
    "print(exsof)"
   ]
  },
  {
   "cell_type": "code",
   "execution_count": 30,
   "metadata": {},
   "outputs": [
    {
     "name": "stdout",
     "output_type": "stream",
     "text": [
      "tensor([[1.0000, 0.0000, 0.0000, 0.0000, 0.0000, 0.0000, 0.0000, 0.0000],\n",
      "        [0.5000, 0.5000, 0.0000, 0.0000, 0.0000, 0.0000, 0.0000, 0.0000],\n",
      "        [0.3333, 0.3333, 0.3333, 0.0000, 0.0000, 0.0000, 0.0000, 0.0000]])\n"
     ]
    }
   ],
   "source": [
    "tril = torch.tril(torch.ones(T, T))             # Lower triangular matrix of ones\n",
    "wei = torch.zeros((T, T))                       # (T, T)\n",
    "wei = wei.masked_fill(tril == 0, float('-inf')) # Masking all values in wei where tril == 0 with -inf\n",
    "wei = F.softmax(wei, dim=-1)                    # (T, T)\n",
    "xbow3 = wei @ x                                 # (T, T) @ (B, T, C) -> (B, T, T) @ (B, T, C) = (B, T, C)\n",
    "\n",
    "print(wei[0:3])"
   ]
  },
  {
   "cell_type": "markdown",
   "metadata": {},
   "source": [
    "Self - Attention"
   ]
  },
  {
   "cell_type": "code",
   "execution_count": 58,
   "metadata": {},
   "outputs": [
    {
     "name": "stdout",
     "output_type": "stream",
     "text": [
      "torch.Size([4, 8, 16])\n",
      "torch.Size([4, 16, 8])\n"
     ]
    },
    {
     "data": {
      "text/plain": [
       "torch.Size([4, 8, 8])"
      ]
     },
     "execution_count": 58,
     "metadata": {},
     "output_type": "execute_result"
    }
   ],
   "source": [
    "key = nn.Linear(C, 16, bias=False)\n",
    "query = nn.Linear(C, 16, bias=False)\n",
    "k = key(x)\n",
    "q = query(x)\n",
    "print(q.shape)\n",
    "k = k.transpose(-2, -1)\n",
    "print(k.shape)\n",
    "wei = q @ k\n",
    "wei.shape"
   ]
  },
  {
   "cell_type": "code",
   "execution_count": 60,
   "metadata": {},
   "outputs": [
    {
     "data": {
      "text/plain": [
       "torch.Size([4, 8, 32])"
      ]
     },
     "execution_count": 60,
     "metadata": {},
     "output_type": "execute_result"
    }
   ],
   "source": [
    "torch.manual_seed(1337)\n",
    "B, T, C = 4,8,32    # batch, Time. Channels\n",
    "x = torch.randn(B,T,C)\n",
    "\n",
    "# Single Head Self Attention\n",
    "head_size = 16\n",
    "key = nn.Linear(C, head_size, bias=False)\n",
    "query = nn.Linear(C, head_size, bias=False)\n",
    "value = nn.Linear(C, head_size, bias=False)\n",
    "\n",
    "# value = nn.Linear(C, head)\n",
    "k = key(x)      # (B, T, 16)    \n",
    "q = query(x)    # (B, T, 16)     \n",
    "wei = q @ k.transpose(-2, -1)   # (B, T, 16) @ (B, 16, T) --> (B, T, T)\n",
    "\n",
    "tril = torch.tril(torch.ones(T,T))\n",
    "wei = torch.zeros((T,T))\n",
    "wei = wei.masked_fill(tril == 0, float('-inf'))\n",
    "wei = F.softmax(wei, dim=-1)\n",
    "\n",
    "v = value(x)\n",
    "\n",
    "out = wei @ v\n",
    "out.shape"
   ]
  },
  {
   "cell_type": "markdown",
   "metadata": {},
   "source": [
    "Scaled Dot product attention  \n",
    "handles unit variance"
   ]
  },
  {
   "cell_type": "code",
   "execution_count": 61,
   "metadata": {},
   "outputs": [],
   "source": [
    "k = torch.randn(B, T, head_size)\n",
    "q = torch.randn(B, T, head_size)\n",
    "wei = q @ k.transpose(-2, -1) * head_size ** -0.5"
   ]
  },
  {
   "cell_type": "code",
   "execution_count": 62,
   "metadata": {},
   "outputs": [
    {
     "name": "stdout",
     "output_type": "stream",
     "text": [
      "tensor(0.9487)\n",
      "tensor(1.0449)\n",
      "tensor(0.8980)\n"
     ]
    }
   ],
   "source": [
    "print(k.var())\n",
    "print(q.var())\n",
    "print(wei.var())"
   ]
  },
  {
   "cell_type": "code",
   "execution_count": null,
   "metadata": {},
   "outputs": [],
   "source": []
  },
  {
   "cell_type": "code",
   "execution_count": null,
   "metadata": {},
   "outputs": [],
   "source": []
  },
  {
   "cell_type": "code",
   "execution_count": null,
   "metadata": {},
   "outputs": [],
   "source": []
  },
  {
   "cell_type": "code",
   "execution_count": null,
   "metadata": {},
   "outputs": [],
   "source": []
  }
 ],
 "metadata": {
  "kernelspec": {
   "display_name": "Python 3",
   "language": "python",
   "name": "python3"
  },
  "language_info": {
   "codemirror_mode": {
    "name": "ipython",
    "version": 3
   },
   "file_extension": ".py",
   "mimetype": "text/x-python",
   "name": "python",
   "nbconvert_exporter": "python",
   "pygments_lexer": "ipython3",
   "version": "3.10.12"
  }
 },
 "nbformat": 4,
 "nbformat_minor": 2
}
